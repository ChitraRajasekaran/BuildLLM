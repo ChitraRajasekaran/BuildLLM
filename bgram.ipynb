{
 "cells": [
  {
   "cell_type": "code",
   "execution_count": 8,
   "id": "9caad035",
   "metadata": {},
   "outputs": [
    {
     "name": "stdout",
     "output_type": "stream",
     "text": [
      "cuda\n"
     ]
    }
   ],
   "source": [
    "import torch\n",
    "import numpy as np\n",
    "import time\n",
    "import torch.nn as nn\n",
    "from torch.nn import functional as F\n",
    "# torch.cuda.is_available()\n",
    "# torch.zeros(1).cuda()\n",
    "device = 'cuda' if torch.cuda.is_available() else 'cpu'\n",
    "print(device)\n",
    "block_size = 8\n",
    "batch_size = 4\n",
    "max_iters = 3000\n",
    "learning_rate = 3e-4\n",
    "eval_iters = 250"
   ]
  },
  {
   "cell_type": "code",
   "execution_count": 2,
   "id": "539f80e3",
   "metadata": {},
   "outputs": [
    {
     "name": "stdout",
     "output_type": "stream",
     "text": [
      "\n",
      " !$&',-.3:;?ABCDEFGHIJKLMNOPQRSTUVWXYZabcdefghijklmnopqrstuvwxyz\n",
      "65\n"
     ]
    }
   ],
   "source": [
    "with open('input.txt', 'r', encoding='utf-8') as f:\n",
    "    text = f.read()\n",
    "# print(len(text))\n",
    "# print(text[:1000])\n",
    "chars = sorted(set(text))\n",
    "vocab_size = len(chars)\n",
    "print(''.join(chars))\n",
    "print(vocab_size)"
   ]
  },
  {
   "cell_type": "code",
   "execution_count": 3,
   "id": "f03ddb43",
   "metadata": {},
   "outputs": [
    {
     "name": "stdout",
     "output_type": "stream",
     "text": [
      "tensor([18, 47, 56, 57, 58,  1, 15, 47, 58, 47, 64, 43, 52, 10,  0, 14, 43, 44,\n",
      "        53, 56, 43,  1, 61, 43,  1, 54, 56, 53, 41, 43, 43, 42,  1, 39, 52, 63,\n",
      "         1, 44, 59, 56, 58, 46, 43, 56,  6,  1, 46, 43, 39, 56,  1, 51, 43,  1,\n",
      "        57, 54, 43, 39, 49,  8,  0,  0, 13, 50, 50, 10,  0, 31, 54, 43, 39, 49,\n",
      "         6,  1, 57, 54, 43, 39, 49,  8,  0,  0, 18, 47, 56, 57, 58,  1, 15, 47,\n",
      "        58, 47, 64, 43, 52, 10,  0, 37, 53, 59])\n"
     ]
    }
   ],
   "source": [
    "string_to_int = {ch: i for i,ch in enumerate(chars)}\n",
    "int_to_string = {i:ch for i,ch in enumerate(chars)}\n",
    "encode = lambda s: [string_to_int[c] for c in s]\n",
    "decode = lambda l: [int_to_string[i] for i in l]\n",
    "\n",
    "# encoded_text = encode('chitra')\n",
    "# decoded_text = decode(encoded_text)\n",
    "# print(encoded_text)\n",
    "# print(decoded_text)\n",
    "\n",
    "data = torch.tensor(encode(text), dtype=torch.long)\n",
    "print(data[:100])"
   ]
  },
  {
   "cell_type": "code",
   "execution_count": 4,
   "id": "a17061dc",
   "metadata": {},
   "outputs": [
    {
     "name": "stdout",
     "output_type": "stream",
     "text": [
      "inputs:\n",
      "tensor([[51, 39, 52,  6,  1, 58, 46, 43],\n",
      "        [39, 61, 42,  2,  0,  0, 28, 13],\n",
      "        [59, 56, 42, 43, 52,  1, 50, 53],\n",
      "        [47, 50, 58,  1, 42, 47, 43,  6]], device='cuda:0')\n",
      "targets:\n",
      "tensor([[39, 52,  6,  1, 58, 46, 43, 63],\n",
      "        [61, 42,  2,  0,  0, 28, 13, 33],\n",
      "        [56, 42, 43, 52,  1, 50, 53, 60],\n",
      "        [50, 58,  1, 42, 47, 43,  6,  1]], device='cuda:0')\n"
     ]
    }
   ],
   "source": [
    "n = int(0.8*len(data))\n",
    "train_data = data[:n]\n",
    "val_data = data[n:]\n",
    "\n",
    "def get_batch(split):\n",
    "    data = train_data if split == 'train' else val_data\n",
    "    ix = torch.randint(len(data) - block_size, (batch_size,))\n",
    "    x = torch.stack([data[i:i+block_size] for i in ix])\n",
    "    y = torch.stack([data[i+1:i+block_size+1] for i in ix])\n",
    "    x, y = x.to(device), y.to(device)\n",
    "    return x, y\n",
    "\n",
    "x, y = get_batch('train')\n",
    "print('inputs:')\n",
    "# print(x.shape)\n",
    "print(x)\n",
    "print('targets:')\n",
    "print(y)"
   ]
  },
  {
   "cell_type": "code",
   "execution_count": 5,
   "id": "6ab91839",
   "metadata": {},
   "outputs": [],
   "source": [
    "@torch.no_grad()\n",
    "def estimate_loss():\n",
    "    out = {}\n",
    "    model.eval()\n",
    "    for split in ['train', 'val']:\n",
    "        losses = torch.zeros(eval_iters)\n",
    "        for k in range(eval_iters):\n",
    "            X, Y = get_batch(split)\n",
    "            logits, loss = model(X, Y)\n",
    "            losses[k] = loss.item()\n",
    "        out[split] = losses.mean()\n",
    "    model.train()\n",
    "    return out"
   ]
  },
  {
   "cell_type": "code",
   "execution_count": 6,
   "id": "e8685c04",
   "metadata": {},
   "outputs": [
    {
     "name": "stdout",
     "output_type": "stream",
     "text": [
      "['\\n', 'Z', 'R', 'J', ',', 'x', 'Y', '&', 'B', 'H', 'p', ' ', '\\n', '.', 'H', 'Y', 'i', 'E', 'G', 'R', '$', 'f', 'u', 'i', 'f', 'B', 'R', 'u', 'J', 'B', 'Y', '.', 'b', 'K', 'R', 'r', 'Q', 'l', '$', '$', '\\n', 'h', 'y', 'U', 'X', 's', 'g', 'n', 'V', 'J', ';', 'b', 'x', 'w', 'S', 'p', 'E', ',', '-', 'Z', 'o', 'j', '?', 'I', '!', 'O', 'J', 'r', 'k', 'u', 'A', 'K', 'z', 'q', 'M', 'Q', 'f', 'v', 'q', 'g', '-', ',', 'G', ' ', 'U', 'A', 'N', 'Y', 'w', 'j', 'i', 'n', 'F', '-', 'S', 's', '&', 'w', '-', 'R', '-']\n"
     ]
    }
   ],
   "source": [
    "class BigramLanguageModel(nn.Module):\n",
    "    def __init__(self, vocab_size):\n",
    "        super().__init__()\n",
    "        self.token_embedding_table = nn.Embedding(vocab_size, vocab_size)\n",
    "        \n",
    "    def forward(self, index, targets=None):\n",
    "        logits = self.token_embedding_table(index)\n",
    "        \n",
    "        \n",
    "        if targets is None:\n",
    "            loss = None\n",
    "        else:\n",
    "            B, T, C = logits.shape\n",
    "            logits = logits.view(B*T, C)\n",
    "            targets = targets.view(B*T)\n",
    "            loss = F.cross_entropy(logits, targets)\n",
    "        \n",
    "        return logits, loss\n",
    "    \n",
    "    def generate(self, index, max_new_tokens):\n",
    "        # index is (B, T) array of indices in the current context\n",
    "        for _ in range(max_new_tokens):\n",
    "            # get the predictions\n",
    "            logits, loss = self.forward(index)\n",
    "            # focus only on the last time step\n",
    "            logits = logits[:, -1, :] # becomes (B, C)\n",
    "            # apply softmax to get probabilities\n",
    "            probs = F.softmax(logits, dim=-1) # (B, C)\n",
    "            # sample from the distribution\n",
    "            index_next = torch.multinomial(probs, num_samples=1) # (B, 1)\n",
    "            # append sampled index to the running sequence\n",
    "            index = torch.cat((index, index_next), dim=1) # (B, T+1)\n",
    "        return index\n",
    "\n",
    "model = BigramLanguageModel(vocab_size)\n",
    "m = model.to(device)\n",
    "\n",
    "context = torch.zeros((1,1), dtype=torch.long, device=device)\n",
    "generated_chars = decode(m.generate(context, max_new_tokens=100)[0].tolist())\n",
    "print(generated_chars)"
   ]
  },
  {
   "cell_type": "code",
   "execution_count": 9,
   "id": "04856c6e",
   "metadata": {},
   "outputs": [
    {
     "name": "stdout",
     "output_type": "stream",
     "text": [
      "step: 0, train loss: 4.478, val loss: 4.495\n",
      "step: 250, train loss: 4.452, val loss: 4.436\n",
      "step: 500, train loss: 4.387, val loss: 4.388\n",
      "step: 750, train loss: 4.332, val loss: 4.333\n",
      "step: 1000, train loss: 4.306, val loss: 4.294\n",
      "step: 1250, train loss: 4.241, val loss: 4.235\n",
      "step: 1500, train loss: 4.209, val loss: 4.200\n",
      "step: 1750, train loss: 4.138, val loss: 4.149\n",
      "step: 2000, train loss: 4.102, val loss: 4.105\n",
      "step: 2250, train loss: 4.055, val loss: 4.071\n",
      "step: 2500, train loss: 4.020, val loss: 4.018\n",
      "step: 2750, train loss: 3.994, val loss: 3.965\n",
      "4.010514736175537\n"
     ]
    }
   ],
   "source": [
    "# create a PyTorch optimizer\n",
    "optimizer = torch.optim.AdamW(model.parameters(), lr=learning_rate)\n",
    "\n",
    "for iter in range(max_iters):\n",
    "    if iter % eval_iters == 0:\n",
    "        losses = estimate_loss()\n",
    "        print(f\"step: {iter}, train loss: {losses['train']:.3f}, val loss: {losses['val']:.3f}\")\n",
    "\n",
    "    # sample a batch of data\n",
    "    xb, yb = get_batch('train')\n",
    "\n",
    "    # evaluate the loss\n",
    "    logits, loss = model.forward(xb, yb)\n",
    "    optimizer.zero_grad(set_to_none=True)\n",
    "    loss.backward()\n",
    "    optimizer.step()\n",
    "print(loss.item())"
   ]
  },
  {
   "cell_type": "code",
   "execution_count": 10,
   "id": "7f7c93a7",
   "metadata": {},
   "outputs": [
    {
     "name": "stdout",
     "output_type": "stream",
     "text": [
      "['\\n', 'n', 'F', 'o', 'K', ':', 'Q', 'i', 'k', 't', 'o', 'F', '.', '$', 'h', 'x', '-', 'v', '.', '\\n', 'e', 'Z', 'U', 'Z', '.', '$', 'y', ':', 'E', 'A', 'F', 'W', 'W', 'H', 'q', 'N', ';', ';', 'z', 'e', '.', ' ', 'r', 'S', '$', 'A', 's', 'e', 'm', '.', ' ', 'q', 'g', 'f', 'r', 'g', 'a', 'r', 'W', 'k', 'M', 'X', 'M', 'L', '\\n', 'R', 'Y', 'd', '?', 'Y', 'E', 'i', 'l', '$', 'C', ':', '\\n', 'F', 'H', '-', 'p', ' ', 'I', 'Z', 'o', 'y', 'o', 'x', 't', 'o', '3', ';', 'J', 'Z', 'R', 't', '!', 'b', 'r', 'i', 'C']\n"
     ]
    }
   ],
   "source": [
    "context = torch.zeros((1,1), dtype=torch.long, device=device)\n",
    "generated_chars = decode(m.generate(context, max_new_tokens=100)[0].tolist())\n",
    "print(generated_chars)"
   ]
  },
  {
   "cell_type": "code",
   "execution_count": null,
   "id": "1bee93b3",
   "metadata": {},
   "outputs": [],
   "source": []
  }
 ],
 "metadata": {
  "kernelspec": {
   "display_name": "llm-gpt",
   "language": "python",
   "name": "llm"
  },
  "language_info": {
   "codemirror_mode": {
    "name": "ipython",
    "version": 3
   },
   "file_extension": ".py",
   "mimetype": "text/x-python",
   "name": "python",
   "nbconvert_exporter": "python",
   "pygments_lexer": "ipython3",
   "version": "3.9.17"
  }
 },
 "nbformat": 4,
 "nbformat_minor": 5
}
